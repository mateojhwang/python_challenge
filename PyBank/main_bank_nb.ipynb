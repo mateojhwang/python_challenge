{
 "cells": [
  {
   "cell_type": "code",
   "execution_count": 1,
   "metadata": {},
   "outputs": [],
   "source": [
    "# import os and csv\n",
    "import os\n",
    "import csv"
   ]
  },
  {
   "cell_type": "code",
   "execution_count": 2,
   "metadata": {},
   "outputs": [],
   "source": [
    "# store data on budget_data.csv into variable \n",
    "budget_data = os.path.join(\"..\", \"Resources\", \"budget_data.csv\")"
   ]
  },
  {
   "cell_type": "code",
   "execution_count": 8,
   "metadata": {},
   "outputs": [
    {
     "name": "stdout",
     "output_type": "stream",
     "text": [
      "Financial Analysis\n",
      "------------------------------\n",
      "Total months: 86\n",
      "Total : $22564198\n",
      "Average Change: -8214.46511627907\n",
      "Greatest Increase in Profits: Aug-16 ($1862002)\n",
      "Greatest Decrease in Profits: Feb-14 ($-1825558)\n"
     ]
    }
   ],
   "source": [
    "# Read through csv file\n",
    "with open(budget_data) as csv_file:\n",
    "    csv_reader = csv.reader(csv_file, delimiter=\",\")\n",
    "\n",
    "    # store header row\n",
    "    csv_header = next(csv_file)\n",
    "\n",
    "    # make open lists and variables\n",
    "    months = []\n",
    "    true_total = 0\n",
    "    total = 0\n",
    "    change = []\n",
    "    dates_only = []\n",
    "\n",
    "    # for loop that loops through the amount of rows in the list months\n",
    "    for rows in csv_reader:\n",
    "\n",
    "        # add each row of the csv file into the list called months\n",
    "        months.append(rows)\n",
    "\n",
    "        # add each row[1] of the csv file into list called change\n",
    "        change.append(rows[1])\n",
    "\n",
    "        # add each row[0] of the csv file into list called dates_only\n",
    "        dates_only.append(rows[0])\n",
    "\n",
    "        # gets the amount from each row and adds them all up together\n",
    "        total = int(rows[1])\n",
    "        true_total += total\n",
    "\n",
    "    # make a new list called true_change to store the difference\n",
    "    true_change = []\n",
    "\n",
    "    # iterate through change list and get the difference from each index value\n",
    "    for i in range(len(months)-1):\n",
    "\n",
    "        # make variable for the current index [i] and next [i+1]\n",
    "        current_index = int(change[i])\n",
    "        next_index = int(change[i+1])\n",
    "\n",
    "        # get difference between next and current values\n",
    "        difference = next_index - current_index\n",
    "\n",
    "        # append this difference to a new list called true_change\n",
    "        true_change.append(difference)\n",
    "    \n",
    "    # put the max and min values in variables from true_change list\n",
    "    highest_val = max(true_change)\n",
    "    lowest_val = min(true_change)\n",
    "\n",
    "    # get the index of max and min values of the true_change list \n",
    "    high_index = true_change.index(highest_val)\n",
    "    low_index = true_change.index(lowest_val)\n",
    "\n",
    "    # print everything\n",
    "    print(\"Financial Analysis\")\n",
    "    print(\"------------------------------\")\n",
    "    print(f\"Total months: {len(months)}\")\n",
    "    print(f\"Total : ${true_total}\")\n",
    "    print(f\"Average Change: {sum(true_change)/len(change)}\")\n",
    "    print(f\"Greatest Increase in Profits: {dates_only[high_index+1]} (${highest_val})\")\n",
    "    print(f\"Greatest Decrease in Profits: {dates_only[low_index+1]} (${lowest_val})\")\n",
    "\n",
    "     # print everything to output_bank.txt\n",
    "    with open(\"output_bank.txt\", \"w\") as f:\n",
    "        print(\"Financial Analysis\", file=f)\n",
    "        print(\"------------------------------\", file=f)\n",
    "        print(f\"Total months: {len(months)}\", file=f)\n",
    "        print(f\"Total : ${true_total}\", file=f)\n",
    "        print(f\"Average Change: {sum(true_change)/len(change)}\", file=f)\n",
    "        print(f\"Greatest Increase in Profits: {dates_only[high_index+1]} (${highest_val})\", file=f)\n",
    "        print(f\"Greatest Decrease in Profits: {dates_only[low_index+1]} (${lowest_val})\", file=f)"
   ]
  }
 ],
 "metadata": {
  "kernelspec": {
   "display_name": "base",
   "language": "python",
   "name": "python3"
  },
  "language_info": {
   "codemirror_mode": {
    "name": "ipython",
    "version": 3
   },
   "file_extension": ".py",
   "mimetype": "text/x-python",
   "name": "python",
   "nbconvert_exporter": "python",
   "pygments_lexer": "ipython3",
   "version": "3.10.9"
  },
  "orig_nbformat": 4
 },
 "nbformat": 4,
 "nbformat_minor": 2
}
